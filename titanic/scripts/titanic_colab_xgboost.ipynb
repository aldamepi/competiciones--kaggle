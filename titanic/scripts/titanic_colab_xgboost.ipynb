{
  "nbformat": 4,
  "nbformat_minor": 0,
  "metadata": {
    "colab": {
      "name": "titanic xgboost.ipynb",
      "provenance": []
    },
    "kernelspec": {
      "name": "python3",
      "display_name": "Python 3"
    },
    "language_info": {
      "name": "python"
    },
    "accelerator": "GPU"
  },
  "cells": [
    {
      "cell_type": "code",
      "metadata": {
        "id": "kbO_8ER5lvJH"
      },
      "source": [
        ""
      ],
      "execution_count": 1,
      "outputs": []
    },
    {
      "cell_type": "markdown",
      "metadata": {
        "id": "XjBlv21umIAo"
      },
      "source": [
        "Importar las librerias"
      ]
    },
    {
      "cell_type": "code",
      "metadata": {
        "id": "v690orWTl0i6"
      },
      "source": [
        "import numpy as np\n",
        "import matplotlib.pyplot as plt\n",
        "import pandas as pd\n",
        "from sklearn.impute import SimpleImputer\n",
        "import seaborn as sb\n",
        "from sklearn.model_selection import train_test_split\n",
        "from sklearn.model_selection import GridSearchCV\n",
        "from sklearn.metrics import confusion_matrix, accuracy_score\n",
        "from sklearn.ensemble import RandomForestClassifier\n",
        "from xgboost import XGBClassifier"
      ],
      "execution_count": 2,
      "outputs": []
    },
    {
      "cell_type": "markdown",
      "metadata": {
        "id": "lKR8XuOGmRPb"
      },
      "source": [
        "Importar el data set\n"
      ]
    },
    {
      "cell_type": "code",
      "metadata": {
        "colab": {
          "resources": {
            "http://localhost:8080/nbextensions/google.colab/files.js": {
              "data": "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",
              "ok": true,
              "headers": [
                [
                  "content-type",
                  "application/javascript"
                ]
              ],
              "status": 200,
              "status_text": ""
            }
          },
          "base_uri": "https://localhost:8080/",
          "height": 140
        },
        "id": "tRwkCsI7oOQf",
        "outputId": "ff86cca4-955c-4cf8-84ba-18c038a8a89f"
      },
      "source": [
        "from google.colab import files\n",
        "\n",
        "uploaded = files.upload()\n",
        "\n",
        "for fn in uploaded.keys():\n",
        "  print('User uploaded file \"{name}\" with length {length} bytes'.format(\n",
        "      name=fn, length=len(uploaded[fn])))"
      ],
      "execution_count": 5,
      "outputs": [
        {
          "output_type": "display_data",
          "data": {
            "text/html": [
              "\n",
              "     <input type=\"file\" id=\"files-bc64dd0f-a5bb-4aa7-b712-0bed30bfeb8c\" name=\"files[]\" multiple disabled\n",
              "        style=\"border:none\" />\n",
              "     <output id=\"result-bc64dd0f-a5bb-4aa7-b712-0bed30bfeb8c\">\n",
              "      Upload widget is only available when the cell has been executed in the\n",
              "      current browser session. Please rerun this cell to enable.\n",
              "      </output>\n",
              "      <script src=\"/nbextensions/google.colab/files.js\"></script> "
            ],
            "text/plain": [
              "<IPython.core.display.HTML object>"
            ]
          },
          "metadata": {
            "tags": []
          }
        },
        {
          "output_type": "stream",
          "text": [
            "Saving train.csv to train.csv\n",
            "Saving test.csv to test.csv\n",
            "User uploaded file \"train.csv\" with length 61194 bytes\n",
            "User uploaded file \"test.csv\" with length 28629 bytes\n"
          ],
          "name": "stdout"
        }
      ]
    },
    {
      "cell_type": "code",
      "metadata": {
        "id": "iN8C2XUcsA6F"
      },
      "source": [
        ""
      ],
      "execution_count": null,
      "outputs": []
    },
    {
      "cell_type": "code",
      "metadata": {
        "id": "1zj9AG5al2dB"
      },
      "source": [
        "datatrain = pd.read_csv('train.csv', index_col='PassengerId')\n",
        "datatest = pd.read_csv('test.csv')\n",
        "\n",
        "\n",
        "df = datatrain.drop(['Name','Ticket'], axis = 'columns')\n",
        "dt = datatest.drop(['Name','Ticket','PassengerId'], axis = 'columns')\n",
        "\n",
        "df.columns = ['Superviviente', 'clase', 'genero', 'edad', 'SibSp', 'Parch', \n",
        "              'tarifa', 'cubierta', 'puerto']\n",
        "dt.columns = ['clase', 'genero', 'edad', 'SibSp', 'Parch', \n",
        "              'tarifa', 'cubierta', 'puerto']\n",
        "\n",
        "df.genero = df.genero.map({'female' : 'mujer',\n",
        "                           'male' : 'hombre'}, na_action = None)\n",
        "dt.genero = dt.genero.map({'female' : 'mujer',\n",
        "                           'male' : 'hombre'}, na_action = None)\n"
      ],
      "execution_count": 6,
      "outputs": []
    },
    {
      "cell_type": "markdown",
      "metadata": {
        "id": "ukBqUx7GspU0"
      },
      "source": [
        "## codificar la variable cubierta - error\n"
      ]
    },
    {
      "cell_type": "code",
      "metadata": {
        "id": "lrqe-7w3l2kw"
      },
      "source": [
        "def substring_in_string (value, substrings):\n",
        "    for substring in substrings:\n",
        "        if substring in value:\n",
        "            return substring\n",
        "\n",
        "cubiertas = ['A', 'B', 'C', 'D', 'E', 'F', 'T', 'G', 'Unknown']\n",
        "\n",
        "df.cubierta.fillna(\"Unknown\", inplace=True)\n",
        "dt.cubierta.fillna(\"Unknown\", inplace=True)\n",
        "\n",
        "df['cubierta'] = df ['cubierta'].map(lambda x: substring_in_string(x, cubiertas))\n",
        "dt['cubierta'] = dt ['cubierta'].map(lambda x: substring_in_string(x, cubiertas))"
      ],
      "execution_count": 7,
      "outputs": []
    },
    {
      "cell_type": "markdown",
      "metadata": {
        "id": "Qc1YJQaDs1Te"
      },
      "source": [
        "## Codificar como factor la variable de clasificación\n"
      ]
    },
    {
      "cell_type": "code",
      "metadata": {
        "id": "mhIVsC36l2qN"
      },
      "source": [
        "df.Superviviente = pd.Categorical(df.Superviviente)\n"
      ],
      "execution_count": 8,
      "outputs": []
    },
    {
      "cell_type": "markdown",
      "metadata": {
        "id": "3kNjTyiFs6Vf"
      },
      "source": [
        "## Convertir las variables categoricas a categorias\n"
      ]
    },
    {
      "cell_type": "code",
      "metadata": {
        "id": "6JIgjmR_l2t5"
      },
      "source": [
        "cual_col = ['clase', 'genero', 'SibSp', 'Parch', 'cubierta', 'puerto']\n",
        "ordi_col = ['clase', 'SibSp', 'Parch']\n",
        "cuanti_col = ['edad', 'tarifa']\n",
        "\n",
        "for c in cual_col:\n",
        "    if c in ordi_col:\n",
        "        df[c] = pd.Categorical(df[c], ordered=True)\n",
        "        dt[c] = pd.Categorical(dt[c], ordered=True)\n",
        "    else:\n",
        "        df[c] = pd.Categorical(df[c])\n",
        "        dt[c] = pd.Categorical(dt[c])\n",
        "\n",
        "df.clase = pd.Categorical(df.clase, ordered=True, categories=[3,2,1])\n",
        "dt.clase = pd.Categorical(dt.clase, ordered=True, categories=[3,2,1])\n",
        "\n",
        "df.Parch = pd.Categorical(df.Parch, ordered=True, categories=[0,1,2,3,4,5,6,9])\n"
      ],
      "execution_count": 9,
      "outputs": []
    },
    {
      "cell_type": "markdown",
      "metadata": {
        "id": "4n-usNRxtSY0"
      },
      "source": [
        "# PREPARAR LOS DATOS PARA EL MODELO\n"
      ]
    },
    {
      "cell_type": "markdown",
      "metadata": {
        "id": "1K4vFEpvte2M"
      },
      "source": [
        "## Gestión de Variables"
      ]
    },
    {
      "cell_type": "markdown",
      "metadata": {
        "id": "Tt_DiFL0tk9c"
      },
      "source": [
        "### Crear variable adulto"
      ]
    },
    {
      "cell_type": "code",
      "metadata": {
        "id": "dqcvSh9kl2xF"
      },
      "source": [
        "df.columns\n",
        "\n",
        "df.loc[(df.edad <= 15), \"adulto\"] = \"joven\"\n",
        "df.adulto.fillna(\"adulto\", inplace=True)"
      ],
      "execution_count": 10,
      "outputs": []
    },
    {
      "cell_type": "markdown",
      "metadata": {
        "id": "MbzscrK_txus"
      },
      "source": [
        "#### En el conjunto de test\n"
      ]
    },
    {
      "cell_type": "code",
      "metadata": {
        "id": "dSlCIUfbl20O"
      },
      "source": [
        "dt.loc[(dt.edad <= 15), \"adulto\"] = \"joven\"\n",
        "dt.adulto.fillna(\"adulto\", inplace=True)"
      ],
      "execution_count": 11,
      "outputs": []
    },
    {
      "cell_type": "code",
      "metadata": {
        "id": "du25EZyMl23E"
      },
      "source": [
        "df.adulto = pd.Categorical(df.adulto)\n",
        "dt.adulto = pd.Categorical(dt.adulto)\n",
        "cual_col.append(\"adulto\")\n"
      ],
      "execution_count": 12,
      "outputs": []
    },
    {
      "cell_type": "markdown",
      "metadata": {
        "id": "LBl7e0ubuGXT"
      },
      "source": [
        "## Detectar y eliminar outliers\n"
      ]
    },
    {
      "cell_type": "markdown",
      "metadata": {
        "id": "S3wQUTmzuNxD"
      },
      "source": [
        "### Detectar y eliminar outliers de la categoria cubierta T\n"
      ]
    },
    {
      "cell_type": "code",
      "metadata": {
        "id": "3Kb5lqTEl26N"
      },
      "source": [
        "df.drop(df[df.cubierta == \"T\"].index, axis=0, inplace=True)\n",
        "\n",
        "df.cubierta = pd.Categorical(df.cubierta, categories=[\"A\",\"B\",\"C\",\"D\",\"E\",\"F\",\"G\",\"Unknown\"])"
      ],
      "execution_count": 13,
      "outputs": []
    },
    {
      "cell_type": "markdown",
      "metadata": {
        "id": "LWZuAOIiuXxl"
      },
      "source": [
        "### Detectar y eliminar outliers de la categoria adulto\n"
      ]
    },
    {
      "cell_type": "code",
      "metadata": {
        "id": "OAjQXuMmugEc"
      },
      "source": [
        "#### Calculo de estadisticos adultos\n",
        "Q1_edad_adulto = df.edad[df.adulto == \"adulto\"].quantile(0.25)\n",
        "Q3_edad_adulto = df.edad[df.adulto == \"adulto\"].quantile(0.75)\n",
        "IQR_edad_adulto = Q3_edad_adulto-Q1_edad_adulto\n",
        "\n",
        "#### Calculo de los bigotes adultos\n",
        "BI_edad_adulto = Q1_edad_adulto - 1.5 * IQR_edad_adulto\n",
        "BS_edad_adulto = Q3_edad_adulto + 1.5 * IQR_edad_adulto\n",
        "\n",
        "#### Ubicación de outliers adultos\n",
        "ubi_outliers_adulto = (df.edad[df.adulto == \"adulto\"] < BI_edad_adulto) | (df.edad[df.adulto == \"adulto\"] > BS_edad_adulto)\n",
        " \n",
        "outliers_adulto = df[df.adulto == \"adulto\"][ubi_outliers_adulto]\n",
        "\n",
        "#### Eliminación de outliers adultos-Supervivientes\n",
        "df.drop(outliers_adulto.index, axis=0, inplace=True)\n"
      ],
      "execution_count": 14,
      "outputs": []
    },
    {
      "cell_type": "markdown",
      "metadata": {
        "id": "rLcDP33Iu24q"
      },
      "source": [
        "### Detectar y eliminar outliers de la variable adultos, agrupada por genero:\n"
      ]
    },
    {
      "cell_type": "code",
      "metadata": {
        "colab": {
          "base_uri": "https://localhost:8080/"
        },
        "id": "qC2JREuku5XN",
        "outputId": "e7ab18a1-e392-47e2-e27d-80543c59da27"
      },
      "source": [
        "#### Calculo de estadisticos adultos-hombres \n",
        "Q1_ed_ad_hombre = df.edad[df.adulto == \"adulto\"][df.genero == \"hombre\"].quantile(0.25)\n",
        "Q3_ed_ad_hombre = df.edad[df.adulto == \"adulto\"][df.genero == \"hombre\"].quantile(0.75)\n",
        "IQR_ed_ad_hombre = Q3_ed_ad_hombre-Q1_ed_ad_hombre\n",
        "\n",
        "#### Calculo de los bigotes adultos-hombres\n",
        "BI_ed_ad_hombre = Q1_ed_ad_hombre - 1.5 * IQR_ed_ad_hombre\n",
        "BS_ed_ad_hombre = Q3_ed_ad_hombre + 1.5 * IQR_ed_ad_hombre\n",
        "\n",
        "#### Ubicación de outliers adultos-Supervivientes\n",
        "ubi_outliers_adulto_hombre = (df.edad[df.adulto == \"adulto\"][df.genero == \"hombre\"] < BI_ed_ad_hombre) | (df.edad[df.adulto == \"adulto\"][df.genero == \"hombre\"] > BS_ed_ad_hombre)\n",
        " \n",
        "outliers_adulto_hombre = df[df.adulto == \"adulto\"][df.genero == \"hombre\"][ubi_outliers_adulto_hombre]\n",
        "\n",
        "#### Eliminación de outliers adultos-Supervivientes\n",
        "df.drop(outliers_adulto_hombre.index, axis=0, inplace=True)\n"
      ],
      "execution_count": 15,
      "outputs": [
        {
          "output_type": "stream",
          "text": [
            "/usr/local/lib/python3.7/dist-packages/ipykernel_launcher.py:13: UserWarning: Boolean Series key will be reindexed to match DataFrame index.\n",
            "  del sys.path[0]\n"
          ],
          "name": "stderr"
        }
      ]
    },
    {
      "cell_type": "markdown",
      "metadata": {
        "id": "zGRy8gv6vBfM"
      },
      "source": [
        "### Detectar y eliminar outliers de la variable adultos, agrupada por supervivientes:\n"
      ]
    },
    {
      "cell_type": "code",
      "metadata": {
        "colab": {
          "base_uri": "https://localhost:8080/"
        },
        "id": "uBLavsgJvCgN",
        "outputId": "b9d7ca8d-01c6-455e-c834-2dd022b4b8c9"
      },
      "source": [
        "#### Calculo de estadisticos adultos-Supervivientes \n",
        "Q1_ed_ad_super = df.edad[df.adulto == \"adulto\"][df.Superviviente == 1].quantile(0.25)\n",
        "Q3_ed_ad_super = df.edad[df.adulto == \"adulto\"][df.Superviviente == 1].quantile(0.75)\n",
        "IQR_ed_ad_super = Q3_ed_ad_super-Q1_ed_ad_super\n",
        "\n",
        "#### Calculo de los bigotes adultos-Supervivientes\n",
        "\n",
        "BI_ed_ad_super = Q1_ed_ad_super - 1.5 * IQR_ed_ad_super\n",
        "BS_ed_ad_super = Q3_ed_ad_super + 1.5 * IQR_ed_ad_super\n",
        "\n",
        "#### Ubicación de outliers adultos-Supervivientes\n",
        "ubi_outliers_adulto_super = (df.edad[df.adulto == \"adulto\"][df.Superviviente == 1] < BI_ed_ad_super) | (df.edad[df.adulto == \"adulto\"][df.Superviviente == 1] > BS_ed_ad_super)\n",
        "\n",
        "outliers_adulto_super = df[df.adulto == \"adulto\"][df.Superviviente == 1][ubi_outliers_adulto_super]\n",
        "\n",
        "#### Eliminación de outliers adultos-Supervivientes\n",
        "df.drop(outliers_adulto_super.index, axis=0, inplace=True)"
      ],
      "execution_count": 16,
      "outputs": [
        {
          "output_type": "stream",
          "text": [
            "/usr/local/lib/python3.7/dist-packages/ipykernel_launcher.py:14: UserWarning: Boolean Series key will be reindexed to match DataFrame index.\n",
            "  \n"
          ],
          "name": "stderr"
        }
      ]
    },
    {
      "cell_type": "markdown",
      "metadata": {
        "id": "HHZprs5LvJYx"
      },
      "source": [
        "### SEGUNDA ITERACION eliminar outliers de la variable adultos, agrupada por supervivientes:\n"
      ]
    },
    {
      "cell_type": "code",
      "metadata": {
        "id": "CEPIM0FmvK9R"
      },
      "source": [
        "#### Calculo de estadisticos adultos-Supervivientes \n",
        "Q1_ed_ad_super = df.edad[df.adulto == \"adulto\"][df.Superviviente == 1].quantile(0.25)\n",
        "Q3_ed_ad_super = df.edad[df.adulto == \"adulto\"][df.Superviviente == 1].quantile(0.75)\n",
        "IQR_ed_ad_super = Q3_ed_ad_super-Q1_ed_ad_super\n",
        "\n",
        "#### Calculo de los bigotes adultos-Supervivientes\n",
        "BI_ed_ad_super = Q1_ed_ad_super - 1.5 * IQR_ed_ad_super\n",
        "BS_ed_ad_super = Q3_ed_ad_super + 1.5 * IQR_ed_ad_super\n",
        "\n",
        "#### Ubicación de outliers adultos-Supervivientes\n",
        "ubi_outliers_adulto_super = (df.edad[df.adulto == \"adulto\"][df.Superviviente == 1] < BI_ed_ad_super) | (df.edad[df.adulto == \"adulto\"][df.Superviviente == 1] > BS_ed_ad_super)\n",
        " \n",
        "outliers_adulto_super = df[df.adulto == \"adulto\"][df.Superviviente == 1][ubi_outliers_adulto_super]\n",
        "\n",
        "#### Eliminación de outliers adultos-Supervivientes\n",
        "df.drop(outliers_adulto_super.index, axis=0, inplace=True)\n",
        "\n",
        "\n",
        "### Volver a calcular el Bigote superior de adulto para edad\n",
        "\n",
        "Q1_edad_adulto = df.edad[df.adulto == \"adulto\"].quantile(0.25)\n",
        "Q3_edad_adulto = df.edad[df.adulto == \"adulto\"].quantile(0.75)\n",
        "IQR_edad_adulto = Q3_edad_adulto-Q1_edad_adulto\n",
        "BI_edad_adulto = Q1_edad_adulto - 1.5 * IQR_edad_adulto\n",
        "BS_edad_adulto = Q3_edad_adulto + 1.5 * IQR_edad_adulto\n"
      ],
      "execution_count": null,
      "outputs": []
    },
    {
      "cell_type": "markdown",
      "metadata": {
        "id": "qyi2T106vZlU"
      },
      "source": [
        "## Tratamiento de los NA\n"
      ]
    },
    {
      "cell_type": "markdown",
      "metadata": {
        "id": "GIRnU7_vvdnB"
      },
      "source": [
        "### En el conjunto de entrenamiento\n"
      ]
    },
    {
      "cell_type": "code",
      "metadata": {
        "id": "6ueSCwBbvehM"
      },
      "source": [
        "#### Completar los NA de hombres jovenes (masters) con la media\n",
        "\n",
        "edad_master = datatrain.Age[datatrain.Name.str.contains(\"Master\")]\n",
        "ed_master_mean = edad_master.mean()\n",
        "\n",
        "df.loc[(datatrain.Age.isna()) & (datatrain.Name.str.contains(\"Master\")), \"edad\"] = np.ceil(ed_master_mean)\n",
        "\n",
        "\n",
        "##### Los masters que quedan estaban codificados como adultos - OJO\n",
        "df.loc[(df.edad <= 15) & (df.genero == \"hombre\"), \"adulto\"] = \"joven\"\n",
        "\n",
        "\n",
        "#### Completar los NA de los adultos con la media\n",
        "\n",
        "df.edad.fillna(df.edad.mean(), inplace=True)"
      ],
      "execution_count": 17,
      "outputs": []
    },
    {
      "cell_type": "markdown",
      "metadata": {
        "id": "1GCkG5hUvmYq"
      },
      "source": [
        "### En el conjunto de test \n"
      ]
    },
    {
      "cell_type": "code",
      "metadata": {
        "id": "AYjEpDhfvo6W"
      },
      "source": [
        "#### Hay un NAN en tarifa\n",
        "\n",
        "dt.tarifa.fillna(dt.tarifa.mean(), inplace=True)\n",
        "\n",
        "\n",
        "\n",
        "#### Los masters\n",
        "edad_master_t = datatest.Age[datatest.Name.str.contains(\"Master\")]\n",
        "ed_master_mean_t = edad_master_t.mean()\n",
        "#edad_master_t.max()\n",
        "\n",
        "dt.loc[(datatest.Age.isna()) & (datatest.Name.str.contains(\"Master\")), \"edad\"] = np.ceil(ed_master_mean_t)\n",
        "\n",
        "##### Los masters que quedan, estaban codificados como adultos - OJO\n",
        "dt.loc[(dt.edad <= 15) & (dt.genero == \"hombre\"), \"adulto\"] = \"joven\"\n",
        "\n",
        "\n",
        "#### Completar los NA de los adultos con la media\n",
        "\n",
        "dt.edad.fillna(dt.edad.mean(), inplace=True)"
      ],
      "execution_count": 18,
      "outputs": []
    },
    {
      "cell_type": "markdown",
      "metadata": {
        "id": "myLnsq05vxpW"
      },
      "source": [
        "### Obtener la matriz de caracteristicas y la variable independiente\n"
      ]
    },
    {
      "cell_type": "code",
      "metadata": {
        "id": "AJfbGC7Dvy_e"
      },
      "source": [
        "X = df.iloc[:, 1:]\n",
        "y = df.iloc[:, 0].values\n",
        "\n",
        "x_t = dt.copy()\n",
        "\n",
        "x0 = pd.concat([X,x_t], axis=0)\n"
      ],
      "execution_count": 19,
      "outputs": []
    },
    {
      "cell_type": "markdown",
      "metadata": {
        "id": "BqoMIX41wAgi"
      },
      "source": [
        "## Codificar variables categoricas\n"
      ]
    },
    {
      "cell_type": "code",
      "metadata": {
        "id": "wiZ0TKDQwDpP"
      },
      "source": [
        "dummi_col = cual_col.copy()    \n",
        "\n",
        "for x in ordi_col:\n",
        "    dummi_col.remove(x)     \n",
        "       \n",
        "x0 = pd.get_dummies(x0, prefix=dummi_col, columns=dummi_col, drop_first=True)"
      ],
      "execution_count": 20,
      "outputs": []
    },
    {
      "cell_type": "markdown",
      "metadata": {
        "id": "3_OAmH6IwQFa"
      },
      "source": [
        "## Dividir el conjunto de datos en entrenamiento y test\n"
      ]
    },
    {
      "cell_type": "code",
      "metadata": {
        "id": "iaMROC2UwSML"
      },
      "source": [
        "X = x0.iloc[0:len(df),:]\n",
        "x_t = x0.iloc[len(df):,:]\n"
      ],
      "execution_count": 21,
      "outputs": []
    },
    {
      "cell_type": "code",
      "metadata": {
        "id": "YvXVKh56vaj4"
      },
      "source": [
        "X_train, X_test, y_train, y_test = train_test_split(X, y, test_size=0.2, \n",
        "                                                    random_state=0, stratify=y)\n"
      ],
      "execution_count": null,
      "outputs": []
    },
    {
      "cell_type": "markdown",
      "metadata": {
        "id": "IBP3Ue6uwlNp"
      },
      "source": [
        "# Seleccionar los modelos\n"
      ]
    },
    {
      "cell_type": "markdown",
      "metadata": {
        "id": "pZ8XdkHywoFV"
      },
      "source": [
        "## Aplicar el modelo XGBoost\n",
        "\n"
      ]
    },
    {
      "cell_type": "markdown",
      "metadata": {
        "id": "MkOj8Kgwwyt-"
      },
      "source": [
        "### Dividir el conjunto de datos en entrenamiento y test\n"
      ]
    },
    {
      "cell_type": "code",
      "metadata": {
        "id": "7o3potWLwzzO"
      },
      "source": [
        "XGB = X.copy()\n",
        "XGB = np.array(XGB)\n",
        "xgb_t = x_t.copy\n",
        "xgb_t = np.array(xgb_t)\n",
        "ygb = y.copy()\n",
        "ygb = np.array(ygb)\n",
        "\n",
        "\n",
        "XGB_train, XGB_test, ygb_train, ygb_test = train_test_split(XGB, ygb, test_size=0.2, \n",
        "                                                            random_state=0, stratify=ygb)"
      ],
      "execution_count": 22,
      "outputs": []
    },
    {
      "cell_type": "markdown",
      "metadata": {
        "id": "B9XzOVv2xCyH"
      },
      "source": [
        "### Ajustar el clasificador al conjunto de entrenamiento\n"
      ]
    },
    {
      "cell_type": "code",
      "metadata": {
        "id": "4ccZk2UPxDmI"
      },
      "source": [
        "classi_xgb = XGBClassifier(objective='binary:logistic')\n",
        "\n",
        "#### Primera tanda:\n",
        "parametersXGB = [{'booster': ['gbtree'],\n",
        "                  'eta': [0.01, 0.3, 0.6],\n",
        "                  'gamma': [0.01, 0.5, 1, 5, 10],\n",
        "                  'max_depth' : [4,8,12],\n",
        "                  'min_child_weight' : [0.1,0.5,1,5],\n",
        "                  'subsample' : [0.8],\n",
        "                  'colsample_bytree' : [0.5],\n",
        "#                  'sampling_method' : [],\n",
        "                  'lambda' : [0.1, 0.5, 1, 10],\n",
        "                  'alpha' : [0,0.5,1,5,10],\n",
        "                  'scale_pos_weight' : [1,3,5]\n",
        "                  }\n",
        "                 ]"
      ],
      "execution_count": 23,
      "outputs": []
    },
    {
      "cell_type": "code",
      "metadata": {
        "id": "gGZHPiORws9s"
      },
      "source": [
        "grid_search_xgb = GridSearchCV(estimator = classi_xgb,\n",
        "                           param_grid= parametersXGB,\n",
        "                           scoring='accuracy',\n",
        "                           cv = 5,\n",
        "                           n_jobs = -1)"
      ],
      "execution_count": 24,
      "outputs": []
    },
    {
      "cell_type": "code",
      "metadata": {
        "id": "seaJLQIbxOWg"
      },
      "source": [
        "grid_search_xgb = grid_search_xgb.fit(XGB_train, ygb_train, \n",
        "                                      verbose = True,\n",
        "                                      eval_metric = 'aucpr',\n",
        "                                      eval_set = [(XGB_test, ygb_test)]\n",
        "                                      )"
      ],
      "execution_count": null,
      "outputs": []
    },
    {
      "cell_type": "code",
      "metadata": {
        "id": "G3VgbOUkxOS6"
      },
      "source": [
        "best_accuracy_xgb = grid_search_xgb.best_score_\n",
        "print(best_accuracy_xgb)"
      ],
      "execution_count": null,
      "outputs": []
    },
    {
      "cell_type": "code",
      "metadata": {
        "id": "Vc8_fBQ-xOPT"
      },
      "source": [
        "best_parameters_xgb = grid_search_xgb.best_params_\n",
        "print(grid_search_xgb.best_params_)"
      ],
      "execution_count": null,
      "outputs": []
    },
    {
      "cell_type": "code",
      "metadata": {
        "id": "hFWmBPeVxwQ5"
      },
      "source": [
        ""
      ],
      "execution_count": null,
      "outputs": []
    },
    {
      "cell_type": "code",
      "metadata": {
        "id": "-k4kKN0IxwNM"
      },
      "source": [
        ""
      ],
      "execution_count": null,
      "outputs": []
    },
    {
      "cell_type": "markdown",
      "metadata": {
        "id": "eXFKSSEPx6jt"
      },
      "source": [
        "### Predicción de los resultados con el Conjunto de Testing\n"
      ]
    },
    {
      "cell_type": "code",
      "metadata": {
        "id": "RC83OJTbx7kO"
      },
      "source": [
        "classi_xgb = XGBClassifier(n_estimators = 500, \n",
        "                                  criterion = \"entropy\",\n",
        "                                  max_depth = 8,\n",
        "                                  max_features = 'auto',\n",
        "                                  min_samples_leaf = 2,\n",
        "                                  min_samples_split = 2,\n",
        "                                  random_state = 0)\n",
        "\n",
        "classi_xgb.fit(XGB_train, ygb_train)\n",
        "\n",
        "y_pred_xgb  = classi_xgb.predict(XGB_test)"
      ],
      "execution_count": null,
      "outputs": []
    },
    {
      "cell_type": "markdown",
      "metadata": {
        "id": "OfTurysCyaS4"
      },
      "source": [
        "### Elaborar una matriz de confusión\n"
      ]
    },
    {
      "cell_type": "code",
      "metadata": {
        "id": "uzjdltATybRn"
      },
      "source": [
        "cmXGB = confusion_matrix(ygb_test, y_pred_xgb)\n",
        "precisionXGB = (cmXGB[0,0]+cmXGB[1,1])/cmXGB.sum()\n",
        "accuracy_score(ygb_test, y_pred_xgb)\n"
      ],
      "execution_count": null,
      "outputs": []
    },
    {
      "cell_type": "markdown",
      "metadata": {
        "id": "djQrSjNKyn54"
      },
      "source": [
        "# CREAR EL OUTPUT\n"
      ]
    },
    {
      "cell_type": "markdown",
      "metadata": {
        "id": "BygKEIIUypfT"
      },
      "source": [
        "## Output XGBClassifier\n"
      ]
    },
    {
      "cell_type": "code",
      "metadata": {
        "id": "Rgx4IIfCys4u"
      },
      "source": [
        "classi_xgb_out = classi_xgb.fit(XGB,ygb)\n",
        "\n",
        "y_out_xgb = classi_xgb_out.predict(xgb_t)\n",
        "\n",
        "y_out_xgb = pd.DataFrame(y_out_xgb, columns=[\"Survived\"])\n",
        "\n",
        "outXGB = pd.concat([datatest.PassengerId, y_out_xgb], axis=1)\n",
        "outXGB.set_index('PassengerId', inplace=True)\n",
        "\n",
        "#outRF.to_csv('../datasets/subm_am_py_rf_tuning_090821.csv')\n"
      ],
      "execution_count": null,
      "outputs": []
    },
    {
      "cell_type": "code",
      "metadata": {
        "id": "4rDxddVuypCd"
      },
      "source": [
        ""
      ],
      "execution_count": null,
      "outputs": []
    },
    {
      "cell_type": "code",
      "metadata": {
        "id": "wSpNBVzuxv_1"
      },
      "source": [
        ""
      ],
      "execution_count": null,
      "outputs": []
    },
    {
      "cell_type": "code",
      "metadata": {
        "id": "OmRlUt7KwnDE"
      },
      "source": [
        ""
      ],
      "execution_count": null,
      "outputs": []
    },
    {
      "cell_type": "code",
      "metadata": {
        "id": "elgRUck-vK5m"
      },
      "source": [
        ""
      ],
      "execution_count": null,
      "outputs": []
    },
    {
      "cell_type": "code",
      "metadata": {
        "id": "NWCtOL6UvK2b"
      },
      "source": [
        ""
      ],
      "execution_count": null,
      "outputs": []
    },
    {
      "cell_type": "code",
      "metadata": {
        "id": "a5aGNNJOvKyv"
      },
      "source": [
        ""
      ],
      "execution_count": null,
      "outputs": []
    },
    {
      "cell_type": "code",
      "metadata": {
        "id": "i-wnnIYLvKXT"
      },
      "source": [
        ""
      ],
      "execution_count": null,
      "outputs": []
    },
    {
      "cell_type": "code",
      "metadata": {
        "id": "-BikDcxNuIvA"
      },
      "source": [
        ""
      ],
      "execution_count": null,
      "outputs": []
    },
    {
      "cell_type": "code",
      "metadata": {
        "id": "qcG5It2HuIkf"
      },
      "source": [
        ""
      ],
      "execution_count": null,
      "outputs": []
    },
    {
      "cell_type": "code",
      "metadata": {
        "id": "Laq6ayCMuIbs"
      },
      "source": [
        ""
      ],
      "execution_count": null,
      "outputs": []
    },
    {
      "cell_type": "code",
      "metadata": {
        "id": "Mfs9p6HLuIW2"
      },
      "source": [
        ""
      ],
      "execution_count": null,
      "outputs": []
    },
    {
      "cell_type": "code",
      "metadata": {
        "id": "b34hsjN8l29B"
      },
      "source": [
        ""
      ],
      "execution_count": null,
      "outputs": []
    },
    {
      "cell_type": "code",
      "metadata": {
        "id": "FbhkmNmcl3AA"
      },
      "source": [
        ""
      ],
      "execution_count": null,
      "outputs": []
    },
    {
      "cell_type": "code",
      "metadata": {
        "id": "2QP-ayXcl3C_"
      },
      "source": [
        ""
      ],
      "execution_count": null,
      "outputs": []
    },
    {
      "cell_type": "code",
      "metadata": {
        "id": "pQqZzebml3Fq"
      },
      "source": [
        ""
      ],
      "execution_count": null,
      "outputs": []
    },
    {
      "cell_type": "code",
      "metadata": {
        "id": "_Ih3Y3zil3In"
      },
      "source": [
        ""
      ],
      "execution_count": null,
      "outputs": []
    },
    {
      "cell_type": "code",
      "metadata": {
        "id": "3dFVgf8il0vh"
      },
      "source": [
        ""
      ],
      "execution_count": null,
      "outputs": []
    }
  ]
}