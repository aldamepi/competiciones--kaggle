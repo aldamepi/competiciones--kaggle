{
  "nbformat": 4,
  "nbformat_minor": 0,
  "metadata": {
    "colab": {
      "name": "titanic rna.ipynb",
      "provenance": []
    },
    "kernelspec": {
      "name": "python3",
      "display_name": "Python 3"
    },
    "language_info": {
      "name": "python"
    },
    "accelerator": "GPU"
  },
  "cells": [
    {
      "cell_type": "code",
      "metadata": {
        "id": "F4Mqfc1Wd-Rd"
      },
      "source": [
        ""
      ],
      "execution_count": null,
      "outputs": []
    },
    {
      "cell_type": "code",
      "metadata": {
        "id": "WsPM8ddfaItJ"
      },
      "source": [
        ""
      ],
      "execution_count": null,
      "outputs": []
    },
    {
      "cell_type": "code",
      "metadata": {
        "id": "kbO_8ER5lvJH"
      },
      "source": [
        ""
      ],
      "execution_count": null,
      "outputs": []
    },
    {
      "cell_type": "markdown",
      "metadata": {
        "id": "XjBlv21umIAo"
      },
      "source": [
        "Importar las librerias"
      ]
    },
    {
      "cell_type": "code",
      "metadata": {
        "id": "v690orWTl0i6"
      },
      "source": [
        "import numpy as np\n",
        "import matplotlib.pyplot as plt\n",
        "import pandas as pd\n",
        "from sklearn.impute import SimpleImputer\n",
        "import seaborn as sb\n",
        "from sklearn.preprocessing import StandardScaler\n",
        "from sklearn.model_selection import train_test_split\n",
        "from sklearn.model_selection import GridSearchCV\n",
        "from sklearn.ensemble import RandomForestClassifier\n",
        "from xgboost import XGBClassifier\n",
        "from sklearn.svm import SVC\n",
        "import keras\n",
        "from keras.models import Sequential\n",
        "from keras.layers import Dense\n",
        "from sklearn.metrics import confusion_matrix, accuracy_score\n"
      ],
      "execution_count": 1,
      "outputs": []
    },
    {
      "cell_type": "markdown",
      "metadata": {
        "id": "lKR8XuOGmRPb"
      },
      "source": [
        "Importar el data set\n"
      ]
    },
    {
      "cell_type": "code",
      "metadata": {
        "colab": {
          "resources": {
            "http://localhost:8080/nbextensions/google.colab/files.js": {
              "data": "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",
              "ok": true,
              "headers": [
                [
                  "content-type",
                  "application/javascript"
                ]
              ],
              "status": 200,
              "status_text": ""
            }
          },
          "base_uri": "https://localhost:8080/",
          "height": 140
        },
        "id": "tRwkCsI7oOQf",
        "outputId": "0f58dfc6-0062-4670-9b83-5ae5105fa3b0"
      },
      "source": [
        "from google.colab import files\n",
        "\n",
        "uploaded = files.upload()\n",
        "\n",
        "for fn in uploaded.keys():\n",
        "  print('User uploaded file \"{name}\" with length {length} bytes'.format(\n",
        "      name=fn, length=len(uploaded[fn])))"
      ],
      "execution_count": 2,
      "outputs": [
        {
          "output_type": "display_data",
          "data": {
            "text/html": [
              "\n",
              "     <input type=\"file\" id=\"files-82c70c3c-45a8-4bcd-beab-901043625149\" name=\"files[]\" multiple disabled\n",
              "        style=\"border:none\" />\n",
              "     <output id=\"result-82c70c3c-45a8-4bcd-beab-901043625149\">\n",
              "      Upload widget is only available when the cell has been executed in the\n",
              "      current browser session. Please rerun this cell to enable.\n",
              "      </output>\n",
              "      <script src=\"/nbextensions/google.colab/files.js\"></script> "
            ],
            "text/plain": [
              "<IPython.core.display.HTML object>"
            ]
          },
          "metadata": {
            "tags": []
          }
        },
        {
          "output_type": "stream",
          "text": [
            "Saving test.csv to test.csv\n",
            "Saving train.csv to train.csv\n",
            "User uploaded file \"test.csv\" with length 28629 bytes\n",
            "User uploaded file \"train.csv\" with length 61194 bytes\n"
          ],
          "name": "stdout"
        }
      ]
    },
    {
      "cell_type": "code",
      "metadata": {
        "id": "iN8C2XUcsA6F"
      },
      "source": [
        ""
      ],
      "execution_count": 2,
      "outputs": []
    },
    {
      "cell_type": "code",
      "metadata": {
        "id": "1zj9AG5al2dB"
      },
      "source": [
        "datatrain = pd.read_csv('train.csv', index_col='PassengerId')\n",
        "datatest = pd.read_csv('test.csv')\n",
        "\n",
        "\n",
        "df = datatrain.drop(['Name','Ticket'], axis = 'columns')\n",
        "dt = datatest.drop(['Name','Ticket','PassengerId'], axis = 'columns')\n",
        "\n",
        "df.columns = ['Superviviente', 'clase', 'genero', 'edad', 'SibSp', 'Parch', \n",
        "              'tarifa', 'cubierta', 'puerto']\n",
        "dt.columns = ['clase', 'genero', 'edad', 'SibSp', 'Parch', \n",
        "              'tarifa', 'cubierta', 'puerto']\n",
        "\n",
        "df.genero = df.genero.map({'female' : 'mujer',\n",
        "                           'male' : 'hombre'}, na_action = None)\n",
        "dt.genero = dt.genero.map({'female' : 'mujer',\n",
        "                           'male' : 'hombre'}, na_action = None)\n"
      ],
      "execution_count": 3,
      "outputs": []
    },
    {
      "cell_type": "markdown",
      "metadata": {
        "id": "ukBqUx7GspU0"
      },
      "source": [
        "## codificar la variable cubierta - error\n"
      ]
    },
    {
      "cell_type": "code",
      "metadata": {
        "id": "lrqe-7w3l2kw"
      },
      "source": [
        "def substring_in_string (value, substrings):\n",
        "    for substring in substrings:\n",
        "        if substring in value:\n",
        "            return substring\n",
        "\n",
        "cubiertas = ['A', 'B', 'C', 'D', 'E', 'F', 'T', 'G', 'Unknown']\n",
        "\n",
        "df.cubierta.fillna(\"Unknown\", inplace=True)\n",
        "dt.cubierta.fillna(\"Unknown\", inplace=True)\n",
        "\n",
        "df['cubierta'] = df ['cubierta'].map(lambda x: substring_in_string(x, cubiertas))\n",
        "dt['cubierta'] = dt ['cubierta'].map(lambda x: substring_in_string(x, cubiertas))"
      ],
      "execution_count": 4,
      "outputs": []
    },
    {
      "cell_type": "markdown",
      "metadata": {
        "id": "Qc1YJQaDs1Te"
      },
      "source": [
        "## Codificar como factor la variable de clasificación\n"
      ]
    },
    {
      "cell_type": "code",
      "metadata": {
        "id": "mhIVsC36l2qN"
      },
      "source": [
        "df.Superviviente = pd.Categorical(df.Superviviente)\n"
      ],
      "execution_count": 5,
      "outputs": []
    },
    {
      "cell_type": "markdown",
      "metadata": {
        "id": "3kNjTyiFs6Vf"
      },
      "source": [
        "## Convertir las variables categoricas a categorias\n"
      ]
    },
    {
      "cell_type": "code",
      "metadata": {
        "id": "6JIgjmR_l2t5"
      },
      "source": [
        "cual_col = ['clase', 'genero', 'SibSp', 'Parch', 'cubierta', 'puerto']\n",
        "ordi_col = ['clase', 'SibSp', 'Parch']\n",
        "cuanti_col = ['edad', 'tarifa']\n",
        "\n",
        "for c in cual_col:\n",
        "    if c in ordi_col:\n",
        "        df[c] = pd.Categorical(df[c], ordered=True)\n",
        "        dt[c] = pd.Categorical(dt[c], ordered=True)\n",
        "    else:\n",
        "        df[c] = pd.Categorical(df[c])\n",
        "        dt[c] = pd.Categorical(dt[c])\n",
        "\n",
        "df.clase = pd.Categorical(df.clase, ordered=True, categories=[3,2,1])\n",
        "dt.clase = pd.Categorical(dt.clase, ordered=True, categories=[3,2,1])\n",
        "\n",
        "df.Parch = pd.Categorical(df.Parch, ordered=True, categories=[0,1,2,3,4,5,6,9])\n"
      ],
      "execution_count": 6,
      "outputs": []
    },
    {
      "cell_type": "markdown",
      "metadata": {
        "id": "4n-usNRxtSY0"
      },
      "source": [
        "# PREPARAR LOS DATOS PARA EL MODELO\n"
      ]
    },
    {
      "cell_type": "markdown",
      "metadata": {
        "id": "1K4vFEpvte2M"
      },
      "source": [
        "## Gestión de Variables"
      ]
    },
    {
      "cell_type": "markdown",
      "metadata": {
        "id": "Tt_DiFL0tk9c"
      },
      "source": [
        "### Crear variable adulto"
      ]
    },
    {
      "cell_type": "code",
      "metadata": {
        "id": "dqcvSh9kl2xF"
      },
      "source": [
        "df.columns\n",
        "\n",
        "df.loc[(df.edad <= 15), \"adulto\"] = \"joven\"\n",
        "df.adulto.fillna(\"adulto\", inplace=True)"
      ],
      "execution_count": 7,
      "outputs": []
    },
    {
      "cell_type": "markdown",
      "metadata": {
        "id": "MbzscrK_txus"
      },
      "source": [
        "#### En el conjunto de test\n"
      ]
    },
    {
      "cell_type": "code",
      "metadata": {
        "id": "dSlCIUfbl20O"
      },
      "source": [
        "dt.loc[(dt.edad <= 15), \"adulto\"] = \"joven\"\n",
        "dt.adulto.fillna(\"adulto\", inplace=True)"
      ],
      "execution_count": 8,
      "outputs": []
    },
    {
      "cell_type": "code",
      "metadata": {
        "id": "du25EZyMl23E"
      },
      "source": [
        "df.adulto = pd.Categorical(df.adulto)\n",
        "dt.adulto = pd.Categorical(dt.adulto)\n",
        "cual_col.append(\"adulto\")\n"
      ],
      "execution_count": 9,
      "outputs": []
    },
    {
      "cell_type": "markdown",
      "metadata": {
        "id": "LBl7e0ubuGXT"
      },
      "source": [
        "## Detectar y eliminar outliers\n"
      ]
    },
    {
      "cell_type": "markdown",
      "metadata": {
        "id": "S3wQUTmzuNxD"
      },
      "source": [
        "### Detectar y eliminar outliers de la categoria cubierta T\n"
      ]
    },
    {
      "cell_type": "code",
      "metadata": {
        "id": "3Kb5lqTEl26N"
      },
      "source": [
        "df.drop(df[df.cubierta == \"T\"].index, axis=0, inplace=True)\n",
        "\n",
        "df.cubierta = pd.Categorical(df.cubierta, categories=[\"A\",\"B\",\"C\",\"D\",\"E\",\"F\",\"G\",\"Unknown\"])"
      ],
      "execution_count": 10,
      "outputs": []
    },
    {
      "cell_type": "markdown",
      "metadata": {
        "id": "LWZuAOIiuXxl"
      },
      "source": [
        "### Detectar y eliminar outliers de la categoria adulto\n"
      ]
    },
    {
      "cell_type": "code",
      "metadata": {
        "id": "OAjQXuMmugEc"
      },
      "source": [
        "#### Calculo de estadisticos adultos\n",
        "Q1_edad_adulto = df.edad[df.adulto == \"adulto\"].quantile(0.25)\n",
        "Q3_edad_adulto = df.edad[df.adulto == \"adulto\"].quantile(0.75)\n",
        "IQR_edad_adulto = Q3_edad_adulto-Q1_edad_adulto\n",
        "\n",
        "#### Calculo de los bigotes adultos\n",
        "BI_edad_adulto = Q1_edad_adulto - 1.5 * IQR_edad_adulto\n",
        "BS_edad_adulto = Q3_edad_adulto + 1.5 * IQR_edad_adulto\n",
        "\n",
        "#### Ubicación de outliers adultos\n",
        "ubi_outliers_adulto = (df.edad[df.adulto == \"adulto\"] < BI_edad_adulto) | (df.edad[df.adulto == \"adulto\"] > BS_edad_adulto)\n",
        " \n",
        "outliers_adulto = df[df.adulto == \"adulto\"][ubi_outliers_adulto]\n",
        "\n",
        "#### Eliminación de outliers adultos-Supervivientes\n",
        "df.drop(outliers_adulto.index, axis=0, inplace=True)\n"
      ],
      "execution_count": 11,
      "outputs": []
    },
    {
      "cell_type": "markdown",
      "metadata": {
        "id": "rLcDP33Iu24q"
      },
      "source": [
        "### Detectar y eliminar outliers de la variable adultos, agrupada por genero:\n"
      ]
    },
    {
      "cell_type": "code",
      "metadata": {
        "colab": {
          "base_uri": "https://localhost:8080/"
        },
        "id": "qC2JREuku5XN",
        "outputId": "ef27d78b-81ba-4c8f-f640-e34fdbc36a93"
      },
      "source": [
        "#### Calculo de estadisticos adultos-hombres \n",
        "Q1_ed_ad_hombre = df.edad[df.adulto == \"adulto\"][df.genero == \"hombre\"].quantile(0.25)\n",
        "Q3_ed_ad_hombre = df.edad[df.adulto == \"adulto\"][df.genero == \"hombre\"].quantile(0.75)\n",
        "IQR_ed_ad_hombre = Q3_ed_ad_hombre-Q1_ed_ad_hombre\n",
        "\n",
        "#### Calculo de los bigotes adultos-hombres\n",
        "BI_ed_ad_hombre = Q1_ed_ad_hombre - 1.5 * IQR_ed_ad_hombre\n",
        "BS_ed_ad_hombre = Q3_ed_ad_hombre + 1.5 * IQR_ed_ad_hombre\n",
        "\n",
        "#### Ubicación de outliers adultos-Supervivientes\n",
        "ubi_outliers_adulto_hombre = (df.edad[df.adulto == \"adulto\"][df.genero == \"hombre\"] < BI_ed_ad_hombre) | (df.edad[df.adulto == \"adulto\"][df.genero == \"hombre\"] > BS_ed_ad_hombre)\n",
        " \n",
        "outliers_adulto_hombre = df[df.adulto == \"adulto\"][df.genero == \"hombre\"][ubi_outliers_adulto_hombre]\n",
        "\n",
        "#### Eliminación de outliers adultos-Supervivientes\n",
        "df.drop(outliers_adulto_hombre.index, axis=0, inplace=True)\n"
      ],
      "execution_count": 12,
      "outputs": [
        {
          "output_type": "stream",
          "text": [
            "/usr/local/lib/python3.7/dist-packages/ipykernel_launcher.py:13: UserWarning: Boolean Series key will be reindexed to match DataFrame index.\n",
            "  del sys.path[0]\n"
          ],
          "name": "stderr"
        }
      ]
    },
    {
      "cell_type": "markdown",
      "metadata": {
        "id": "zGRy8gv6vBfM"
      },
      "source": [
        "### Detectar y eliminar outliers de la variable adultos, agrupada por supervivientes:\n"
      ]
    },
    {
      "cell_type": "code",
      "metadata": {
        "colab": {
          "base_uri": "https://localhost:8080/"
        },
        "id": "uBLavsgJvCgN",
        "outputId": "abf88291-1621-42de-cfa2-a7312b069646"
      },
      "source": [
        "#### Calculo de estadisticos adultos-Supervivientes \n",
        "Q1_ed_ad_super = df.edad[df.adulto == \"adulto\"][df.Superviviente == 1].quantile(0.25)\n",
        "Q3_ed_ad_super = df.edad[df.adulto == \"adulto\"][df.Superviviente == 1].quantile(0.75)\n",
        "IQR_ed_ad_super = Q3_ed_ad_super-Q1_ed_ad_super\n",
        "\n",
        "#### Calculo de los bigotes adultos-Supervivientes\n",
        "\n",
        "BI_ed_ad_super = Q1_ed_ad_super - 1.5 * IQR_ed_ad_super\n",
        "BS_ed_ad_super = Q3_ed_ad_super + 1.5 * IQR_ed_ad_super\n",
        "\n",
        "#### Ubicación de outliers adultos-Supervivientes\n",
        "ubi_outliers_adulto_super = (df.edad[df.adulto == \"adulto\"][df.Superviviente == 1] < BI_ed_ad_super) | (df.edad[df.adulto == \"adulto\"][df.Superviviente == 1] > BS_ed_ad_super)\n",
        "\n",
        "outliers_adulto_super = df[df.adulto == \"adulto\"][df.Superviviente == 1][ubi_outliers_adulto_super]\n",
        "\n",
        "#### Eliminación de outliers adultos-Supervivientes\n",
        "df.drop(outliers_adulto_super.index, axis=0, inplace=True)"
      ],
      "execution_count": 13,
      "outputs": [
        {
          "output_type": "stream",
          "text": [
            "/usr/local/lib/python3.7/dist-packages/ipykernel_launcher.py:14: UserWarning: Boolean Series key will be reindexed to match DataFrame index.\n",
            "  \n"
          ],
          "name": "stderr"
        }
      ]
    },
    {
      "cell_type": "markdown",
      "metadata": {
        "id": "HHZprs5LvJYx"
      },
      "source": [
        "### SEGUNDA ITERACION eliminar outliers de la variable adultos, agrupada por supervivientes:\n"
      ]
    },
    {
      "cell_type": "code",
      "metadata": {
        "id": "CEPIM0FmvK9R",
        "colab": {
          "base_uri": "https://localhost:8080/"
        },
        "outputId": "6895a9b8-0546-40ba-f0a1-4ad3eae831b1"
      },
      "source": [
        "#### Calculo de estadisticos adultos-Supervivientes \n",
        "Q1_ed_ad_super = df.edad[df.adulto == \"adulto\"][df.Superviviente == 1].quantile(0.25)\n",
        "Q3_ed_ad_super = df.edad[df.adulto == \"adulto\"][df.Superviviente == 1].quantile(0.75)\n",
        "IQR_ed_ad_super = Q3_ed_ad_super-Q1_ed_ad_super\n",
        "\n",
        "#### Calculo de los bigotes adultos-Supervivientes\n",
        "BI_ed_ad_super = Q1_ed_ad_super - 1.5 * IQR_ed_ad_super\n",
        "BS_ed_ad_super = Q3_ed_ad_super + 1.5 * IQR_ed_ad_super\n",
        "\n",
        "#### Ubicación de outliers adultos-Supervivientes\n",
        "ubi_outliers_adulto_super = (df.edad[df.adulto == \"adulto\"][df.Superviviente == 1] < BI_ed_ad_super) | (df.edad[df.adulto == \"adulto\"][df.Superviviente == 1] > BS_ed_ad_super)\n",
        " \n",
        "outliers_adulto_super = df[df.adulto == \"adulto\"][df.Superviviente == 1][ubi_outliers_adulto_super]\n",
        "\n",
        "#### Eliminación de outliers adultos-Supervivientes\n",
        "df.drop(outliers_adulto_super.index, axis=0, inplace=True)\n",
        "\n",
        "\n",
        "### Volver a calcular el Bigote superior de adulto para edad\n",
        "\n",
        "Q1_edad_adulto = df.edad[df.adulto == \"adulto\"].quantile(0.25)\n",
        "Q3_edad_adulto = df.edad[df.adulto == \"adulto\"].quantile(0.75)\n",
        "IQR_edad_adulto = Q3_edad_adulto-Q1_edad_adulto\n",
        "BI_edad_adulto = Q1_edad_adulto - 1.5 * IQR_edad_adulto\n",
        "BS_edad_adulto = Q3_edad_adulto + 1.5 * IQR_edad_adulto\n"
      ],
      "execution_count": 14,
      "outputs": [
        {
          "output_type": "stream",
          "text": [
            "/usr/local/lib/python3.7/dist-packages/ipykernel_launcher.py:13: UserWarning: Boolean Series key will be reindexed to match DataFrame index.\n",
            "  del sys.path[0]\n"
          ],
          "name": "stderr"
        }
      ]
    },
    {
      "cell_type": "markdown",
      "metadata": {
        "id": "qyi2T106vZlU"
      },
      "source": [
        "## Tratamiento de los NA\n"
      ]
    },
    {
      "cell_type": "markdown",
      "metadata": {
        "id": "GIRnU7_vvdnB"
      },
      "source": [
        "### En el conjunto de entrenamiento\n"
      ]
    },
    {
      "cell_type": "code",
      "metadata": {
        "id": "6ueSCwBbvehM"
      },
      "source": [
        "#### Completar los NA de hombres jovenes (masters) con la media\n",
        "\n",
        "edad_master = datatrain.Age[datatrain.Name.str.contains(\"Master\")]\n",
        "ed_master_mean = edad_master.mean()\n",
        "\n",
        "df.loc[(datatrain.Age.isna()) & (datatrain.Name.str.contains(\"Master\")), \"edad\"] = np.ceil(ed_master_mean)\n",
        "\n",
        "\n",
        "##### Los masters que quedan estaban codificados como adultos - OJO\n",
        "df.loc[(df.edad <= 15) & (df.genero == \"hombre\"), \"adulto\"] = \"joven\"\n",
        "\n",
        "\n",
        "#### Completar los NA de los adultos con la media\n",
        "\n",
        "df.edad.fillna(df.edad.mean(), inplace=True)"
      ],
      "execution_count": 15,
      "outputs": []
    },
    {
      "cell_type": "markdown",
      "metadata": {
        "id": "1GCkG5hUvmYq"
      },
      "source": [
        "### En el conjunto de test \n"
      ]
    },
    {
      "cell_type": "code",
      "metadata": {
        "id": "AYjEpDhfvo6W"
      },
      "source": [
        "#### Hay un NAN en tarifa\n",
        "\n",
        "dt.tarifa.fillna(dt.tarifa.mean(), inplace=True)\n",
        "\n",
        "\n",
        "\n",
        "#### Los masters\n",
        "edad_master_t = datatest.Age[datatest.Name.str.contains(\"Master\")]\n",
        "ed_master_mean_t = edad_master_t.mean()\n",
        "#edad_master_t.max()\n",
        "\n",
        "dt.loc[(datatest.Age.isna()) & (datatest.Name.str.contains(\"Master\")), \"edad\"] = np.ceil(ed_master_mean_t)\n",
        "\n",
        "##### Los masters que quedan, estaban codificados como adultos - OJO\n",
        "dt.loc[(dt.edad <= 15) & (dt.genero == \"hombre\"), \"adulto\"] = \"joven\"\n",
        "\n",
        "\n",
        "#### Completar los NA de los adultos con la media\n",
        "\n",
        "dt.edad.fillna(dt.edad.mean(), inplace=True)"
      ],
      "execution_count": 16,
      "outputs": []
    },
    {
      "cell_type": "markdown",
      "metadata": {
        "id": "myLnsq05vxpW"
      },
      "source": [
        "### Obtener la matriz de caracteristicas y la variable independiente\n"
      ]
    },
    {
      "cell_type": "code",
      "metadata": {
        "id": "AJfbGC7Dvy_e"
      },
      "source": [
        "X = df.iloc[:, 1:]\n",
        "y = df.iloc[:, 0]\n",
        "\n",
        "x_t = dt.copy()\n",
        "\n",
        "x0 = pd.concat([X,x_t], axis=0)\n"
      ],
      "execution_count": 29,
      "outputs": []
    },
    {
      "cell_type": "markdown",
      "metadata": {
        "id": "BqoMIX41wAgi"
      },
      "source": [
        "## Codificar variables categoricas\n"
      ]
    },
    {
      "cell_type": "code",
      "metadata": {
        "id": "wiZ0TKDQwDpP"
      },
      "source": [
        "dummi_col = cual_col.copy()    \n",
        "\n",
        "for x in ordi_col:\n",
        "    dummi_col.remove(x)     \n",
        "       \n",
        "x0 = pd.get_dummies(x0, prefix=dummi_col, columns=dummi_col, drop_first=True)"
      ],
      "execution_count": 30,
      "outputs": []
    },
    {
      "cell_type": "markdown",
      "metadata": {
        "id": "3_OAmH6IwQFa"
      },
      "source": [
        "## Dividir el conjunto de datos en entrenamiento y test\n"
      ]
    },
    {
      "cell_type": "code",
      "metadata": {
        "id": "iaMROC2UwSML"
      },
      "source": [
        "X = x0.iloc[0:len(df),:]\n",
        "x_t = x0.iloc[len(df):,:]\n"
      ],
      "execution_count": 31,
      "outputs": []
    },
    {
      "cell_type": "code",
      "metadata": {
        "id": "YvXVKh56vaj4"
      },
      "source": [
        "X_train, X_test, y_train, y_test = train_test_split(X, y, test_size=0.2, \n",
        "                                                    random_state=0, stratify=y)\n"
      ],
      "execution_count": 32,
      "outputs": []
    },
    {
      "cell_type": "markdown",
      "metadata": {
        "id": "yEi55xOGa7XX"
      },
      "source": [
        "## Escalado de valores"
      ]
    },
    {
      "cell_type": "code",
      "metadata": {
        "id": "_mOROAAga9oj"
      },
      "source": [
        "sc_X = StandardScaler()\n",
        "sc_X_t = StandardScaler()\n",
        "X_train = sc_X.fit_transform(X_train)\n",
        "X_test = sc_X.transform(X_test)\n",
        "x_t = sc_X_t.fit_transform(x_t)"
      ],
      "execution_count": 33,
      "outputs": []
    },
    {
      "cell_type": "markdown",
      "metadata": {
        "id": "IBP3Ue6uwlNp"
      },
      "source": [
        "# Seleccionar los modelos\n"
      ]
    },
    {
      "cell_type": "markdown",
      "metadata": {
        "id": "pZ8XdkHywoFV"
      },
      "source": [
        "## Aplicar el modelo de Deep Learning RNA\n",
        "\n"
      ]
    },
    {
      "cell_type": "markdown",
      "metadata": {
        "id": "B9XzOVv2xCyH"
      },
      "source": [
        "### Inicializar la RNA\n"
      ]
    },
    {
      "cell_type": "code",
      "metadata": {
        "id": "tQ9Sc2iEfnuD"
      },
      "source": [
        "classi_rna = Sequential()\n"
      ],
      "execution_count": 34,
      "outputs": []
    },
    {
      "cell_type": "markdown",
      "metadata": {
        "id": "_9j7eMtAfq9l"
      },
      "source": [
        "### Añadir las capas de entrada y la primera capa oculta\n"
      ]
    },
    {
      "cell_type": "code",
      "metadata": {
        "id": "Me3T2r-3f3p7"
      },
      "source": [
        "classi_rna.add(Dense(units = 9, kernel_initializer = \"uniform\",  \n",
        "                     activation = \"relu\", input_dim = 16))"
      ],
      "execution_count": 35,
      "outputs": []
    },
    {
      "cell_type": "markdown",
      "metadata": {
        "id": "zNC-AYJwgCY_"
      },
      "source": [
        "### Añadir la segunda capa oculta\n"
      ]
    },
    {
      "cell_type": "code",
      "metadata": {
        "id": "F-wurZY0gH5V"
      },
      "source": [
        "classi_rna.add(Dense(units = 9, kernel_initializer = \"uniform\",  activation = \"relu\"))\n"
      ],
      "execution_count": 36,
      "outputs": []
    },
    {
      "cell_type": "markdown",
      "metadata": {
        "id": "wNZtaPtGgJ5x"
      },
      "source": [
        "### Añadir la tercera capa oculta\n"
      ]
    },
    {
      "cell_type": "code",
      "metadata": {
        "id": "SjPzR4DzgMg1"
      },
      "source": [
        "classi_rna.add(Dense(units = 9, kernel_initializer = \"uniform\",  activation = \"relu\"))\n"
      ],
      "execution_count": 37,
      "outputs": []
    },
    {
      "cell_type": "markdown",
      "metadata": {
        "id": "hDkmeHTsgPkl"
      },
      "source": [
        "### Añadir la capa de salida\n"
      ]
    },
    {
      "cell_type": "code",
      "metadata": {
        "id": "Wy3yGbwqgXh4"
      },
      "source": [
        "classi_rna.add(Dense(units = 1, kernel_initializer = \"uniform\",  activation = \"sigmoid\"))\n"
      ],
      "execution_count": 38,
      "outputs": []
    },
    {
      "cell_type": "markdown",
      "metadata": {
        "id": "0hTlyS7EgbX6"
      },
      "source": [
        "### Compilar la RNA\n"
      ]
    },
    {
      "cell_type": "code",
      "metadata": {
        "id": "QHGGwAdJgeav"
      },
      "source": [
        "classi_rna.compile(optimizer = \"adam\", loss = \"binary_crossentropy\", metrics = [\"accuracy\"])\n"
      ],
      "execution_count": 39,
      "outputs": []
    },
    {
      "cell_type": "markdown",
      "metadata": {
        "id": "2DsA56oYjoEC"
      },
      "source": [
        "### Ajustamos la RNA al Conjunto de Entrenamiento\n"
      ]
    },
    {
      "cell_type": "code",
      "metadata": {
        "colab": {
          "base_uri": "https://localhost:8080/"
        },
        "id": "5qrRPsKFjrjd",
        "outputId": "0a8d02ad-5a35-450b-defe-6f61d394764f"
      },
      "source": [
        "classi_rna.fit(X_train, y_train,  batch_size = 10, epochs = 100)\n"
      ],
      "execution_count": 40,
      "outputs": [
        {
          "output_type": "stream",
          "text": [
            "Epoch 1/100\n",
            "70/70 [==============================] - 14s 2ms/step - loss: 0.6926 - accuracy: 0.5712\n",
            "Epoch 2/100\n",
            "70/70 [==============================] - 0s 2ms/step - loss: 0.6840 - accuracy: 0.6564\n",
            "Epoch 3/100\n",
            "70/70 [==============================] - 0s 2ms/step - loss: 0.6284 - accuracy: 0.7608\n",
            "Epoch 4/100\n",
            "70/70 [==============================] - 0s 2ms/step - loss: 0.5181 - accuracy: 0.7762\n",
            "Epoch 5/100\n",
            "70/70 [==============================] - 0s 2ms/step - loss: 0.4470 - accuracy: 0.7985\n",
            "Epoch 6/100\n",
            "70/70 [==============================] - 0s 2ms/step - loss: 0.4494 - accuracy: 0.8147\n",
            "Epoch 7/100\n",
            "70/70 [==============================] - 0s 2ms/step - loss: 0.4455 - accuracy: 0.8074\n",
            "Epoch 8/100\n",
            "70/70 [==============================] - 0s 2ms/step - loss: 0.4364 - accuracy: 0.8152\n",
            "Epoch 9/100\n",
            "70/70 [==============================] - 0s 2ms/step - loss: 0.4494 - accuracy: 0.8005\n",
            "Epoch 10/100\n",
            "70/70 [==============================] - 0s 2ms/step - loss: 0.4215 - accuracy: 0.8120\n",
            "Epoch 11/100\n",
            "70/70 [==============================] - 0s 2ms/step - loss: 0.4193 - accuracy: 0.8286\n",
            "Epoch 12/100\n",
            "70/70 [==============================] - 0s 2ms/step - loss: 0.4339 - accuracy: 0.8146\n",
            "Epoch 13/100\n",
            "70/70 [==============================] - 0s 2ms/step - loss: 0.3988 - accuracy: 0.8410\n",
            "Epoch 14/100\n",
            "70/70 [==============================] - 0s 2ms/step - loss: 0.4024 - accuracy: 0.8284\n",
            "Epoch 15/100\n",
            "70/70 [==============================] - 0s 2ms/step - loss: 0.4518 - accuracy: 0.8193\n",
            "Epoch 16/100\n",
            "70/70 [==============================] - 0s 3ms/step - loss: 0.4007 - accuracy: 0.8286\n",
            "Epoch 17/100\n",
            "70/70 [==============================] - 0s 2ms/step - loss: 0.3985 - accuracy: 0.8515\n",
            "Epoch 18/100\n",
            "70/70 [==============================] - 0s 2ms/step - loss: 0.4304 - accuracy: 0.8178\n",
            "Epoch 19/100\n",
            "70/70 [==============================] - 0s 2ms/step - loss: 0.4336 - accuracy: 0.8095\n",
            "Epoch 20/100\n",
            "70/70 [==============================] - 0s 2ms/step - loss: 0.3714 - accuracy: 0.8676\n",
            "Epoch 21/100\n",
            "70/70 [==============================] - 0s 2ms/step - loss: 0.4222 - accuracy: 0.8357\n",
            "Epoch 22/100\n",
            "70/70 [==============================] - 0s 2ms/step - loss: 0.3866 - accuracy: 0.8608\n",
            "Epoch 23/100\n",
            "70/70 [==============================] - 0s 2ms/step - loss: 0.4020 - accuracy: 0.8386\n",
            "Epoch 24/100\n",
            "70/70 [==============================] - 0s 2ms/step - loss: 0.3968 - accuracy: 0.8452\n",
            "Epoch 25/100\n",
            "70/70 [==============================] - 0s 2ms/step - loss: 0.3698 - accuracy: 0.8589\n",
            "Epoch 26/100\n",
            "70/70 [==============================] - 0s 2ms/step - loss: 0.3857 - accuracy: 0.8488\n",
            "Epoch 27/100\n",
            "70/70 [==============================] - 0s 2ms/step - loss: 0.3813 - accuracy: 0.8577\n",
            "Epoch 28/100\n",
            "70/70 [==============================] - 0s 2ms/step - loss: 0.4188 - accuracy: 0.8295\n",
            "Epoch 29/100\n",
            "70/70 [==============================] - 0s 2ms/step - loss: 0.3565 - accuracy: 0.8546\n",
            "Epoch 30/100\n",
            "70/70 [==============================] - 0s 2ms/step - loss: 0.3675 - accuracy: 0.8491\n",
            "Epoch 31/100\n",
            "70/70 [==============================] - 0s 2ms/step - loss: 0.3780 - accuracy: 0.8541\n",
            "Epoch 32/100\n",
            "70/70 [==============================] - 0s 3ms/step - loss: 0.4023 - accuracy: 0.8465\n",
            "Epoch 33/100\n",
            "70/70 [==============================] - 0s 2ms/step - loss: 0.3931 - accuracy: 0.8509\n",
            "Epoch 34/100\n",
            "70/70 [==============================] - 0s 2ms/step - loss: 0.3811 - accuracy: 0.8479\n",
            "Epoch 35/100\n",
            "70/70 [==============================] - 0s 2ms/step - loss: 0.3712 - accuracy: 0.8668\n",
            "Epoch 36/100\n",
            "70/70 [==============================] - 0s 2ms/step - loss: 0.3515 - accuracy: 0.8673\n",
            "Epoch 37/100\n",
            "70/70 [==============================] - 0s 2ms/step - loss: 0.3664 - accuracy: 0.8503\n",
            "Epoch 38/100\n",
            "70/70 [==============================] - 0s 2ms/step - loss: 0.3875 - accuracy: 0.8524\n",
            "Epoch 39/100\n",
            "70/70 [==============================] - 0s 2ms/step - loss: 0.3428 - accuracy: 0.8772\n",
            "Epoch 40/100\n",
            "70/70 [==============================] - 0s 2ms/step - loss: 0.3561 - accuracy: 0.8691\n",
            "Epoch 41/100\n",
            "70/70 [==============================] - 0s 2ms/step - loss: 0.4251 - accuracy: 0.8342\n",
            "Epoch 42/100\n",
            "70/70 [==============================] - 0s 2ms/step - loss: 0.4024 - accuracy: 0.8417\n",
            "Epoch 43/100\n",
            "70/70 [==============================] - 0s 3ms/step - loss: 0.3971 - accuracy: 0.8525\n",
            "Epoch 44/100\n",
            "70/70 [==============================] - 0s 2ms/step - loss: 0.3703 - accuracy: 0.8603\n",
            "Epoch 45/100\n",
            "70/70 [==============================] - 0s 2ms/step - loss: 0.3677 - accuracy: 0.8656\n",
            "Epoch 46/100\n",
            "70/70 [==============================] - 0s 2ms/step - loss: 0.3625 - accuracy: 0.8652\n",
            "Epoch 47/100\n",
            "70/70 [==============================] - 0s 2ms/step - loss: 0.3717 - accuracy: 0.8652\n",
            "Epoch 48/100\n",
            "70/70 [==============================] - 0s 2ms/step - loss: 0.3971 - accuracy: 0.8433\n",
            "Epoch 49/100\n",
            "70/70 [==============================] - 0s 3ms/step - loss: 0.3630 - accuracy: 0.8648\n",
            "Epoch 50/100\n",
            "70/70 [==============================] - 0s 2ms/step - loss: 0.3130 - accuracy: 0.8837\n",
            "Epoch 51/100\n",
            "70/70 [==============================] - 0s 2ms/step - loss: 0.3742 - accuracy: 0.8528\n",
            "Epoch 52/100\n",
            "70/70 [==============================] - 0s 2ms/step - loss: 0.3891 - accuracy: 0.8392\n",
            "Epoch 53/100\n",
            "70/70 [==============================] - 0s 2ms/step - loss: 0.3905 - accuracy: 0.8486\n",
            "Epoch 54/100\n",
            "70/70 [==============================] - 0s 2ms/step - loss: 0.3684 - accuracy: 0.8635\n",
            "Epoch 55/100\n",
            "70/70 [==============================] - 0s 2ms/step - loss: 0.3904 - accuracy: 0.8562\n",
            "Epoch 56/100\n",
            "70/70 [==============================] - 0s 2ms/step - loss: 0.4007 - accuracy: 0.8567\n",
            "Epoch 57/100\n",
            "70/70 [==============================] - 0s 2ms/step - loss: 0.3185 - accuracy: 0.8951\n",
            "Epoch 58/100\n",
            "70/70 [==============================] - 0s 2ms/step - loss: 0.3202 - accuracy: 0.8807\n",
            "Epoch 59/100\n",
            "70/70 [==============================] - 0s 2ms/step - loss: 0.3642 - accuracy: 0.8582\n",
            "Epoch 60/100\n",
            "70/70 [==============================] - 0s 2ms/step - loss: 0.3942 - accuracy: 0.8394\n",
            "Epoch 61/100\n",
            "70/70 [==============================] - 0s 3ms/step - loss: 0.3483 - accuracy: 0.8734\n",
            "Epoch 62/100\n",
            "70/70 [==============================] - 0s 2ms/step - loss: 0.3624 - accuracy: 0.8508\n",
            "Epoch 63/100\n",
            "70/70 [==============================] - 0s 2ms/step - loss: 0.3093 - accuracy: 0.8888\n",
            "Epoch 64/100\n",
            "70/70 [==============================] - 0s 2ms/step - loss: 0.3711 - accuracy: 0.8463\n",
            "Epoch 65/100\n",
            "70/70 [==============================] - 0s 2ms/step - loss: 0.4081 - accuracy: 0.8397\n",
            "Epoch 66/100\n",
            "70/70 [==============================] - 0s 2ms/step - loss: 0.3859 - accuracy: 0.8615\n",
            "Epoch 67/100\n",
            "70/70 [==============================] - 0s 2ms/step - loss: 0.3545 - accuracy: 0.8656\n",
            "Epoch 68/100\n",
            "70/70 [==============================] - 0s 2ms/step - loss: 0.3145 - accuracy: 0.8767\n",
            "Epoch 69/100\n",
            "70/70 [==============================] - 0s 2ms/step - loss: 0.3410 - accuracy: 0.8712\n",
            "Epoch 70/100\n",
            "70/70 [==============================] - 0s 2ms/step - loss: 0.3374 - accuracy: 0.8669\n",
            "Epoch 71/100\n",
            "70/70 [==============================] - 0s 2ms/step - loss: 0.3900 - accuracy: 0.8386\n",
            "Epoch 72/100\n",
            "70/70 [==============================] - 0s 2ms/step - loss: 0.3720 - accuracy: 0.8626\n",
            "Epoch 73/100\n",
            "70/70 [==============================] - 0s 2ms/step - loss: 0.3704 - accuracy: 0.8537\n",
            "Epoch 74/100\n",
            "70/70 [==============================] - 0s 2ms/step - loss: 0.3636 - accuracy: 0.8498\n",
            "Epoch 75/100\n",
            "70/70 [==============================] - 0s 2ms/step - loss: 0.3385 - accuracy: 0.8793\n",
            "Epoch 76/100\n",
            "70/70 [==============================] - 0s 2ms/step - loss: 0.3665 - accuracy: 0.8611\n",
            "Epoch 77/100\n",
            "70/70 [==============================] - 0s 2ms/step - loss: 0.3486 - accuracy: 0.8712\n",
            "Epoch 78/100\n",
            "70/70 [==============================] - 0s 2ms/step - loss: 0.3520 - accuracy: 0.8692\n",
            "Epoch 79/100\n",
            "70/70 [==============================] - 0s 2ms/step - loss: 0.3260 - accuracy: 0.8742\n",
            "Epoch 80/100\n",
            "70/70 [==============================] - 0s 2ms/step - loss: 0.3631 - accuracy: 0.8602\n",
            "Epoch 81/100\n",
            "70/70 [==============================] - 0s 2ms/step - loss: 0.3289 - accuracy: 0.8828\n",
            "Epoch 82/100\n",
            "70/70 [==============================] - 0s 2ms/step - loss: 0.3900 - accuracy: 0.8434\n",
            "Epoch 83/100\n",
            "70/70 [==============================] - 0s 2ms/step - loss: 0.3787 - accuracy: 0.8422\n",
            "Epoch 84/100\n",
            "70/70 [==============================] - 0s 3ms/step - loss: 0.3525 - accuracy: 0.8642\n",
            "Epoch 85/100\n",
            "70/70 [==============================] - 0s 2ms/step - loss: 0.3528 - accuracy: 0.8747\n",
            "Epoch 86/100\n",
            "70/70 [==============================] - 0s 2ms/step - loss: 0.3689 - accuracy: 0.8434\n",
            "Epoch 87/100\n",
            "70/70 [==============================] - 0s 2ms/step - loss: 0.3125 - accuracy: 0.8846\n",
            "Epoch 88/100\n",
            "70/70 [==============================] - 0s 2ms/step - loss: 0.3756 - accuracy: 0.8560\n",
            "Epoch 89/100\n",
            "70/70 [==============================] - 0s 2ms/step - loss: 0.3296 - accuracy: 0.8690\n",
            "Epoch 90/100\n",
            "70/70 [==============================] - 0s 2ms/step - loss: 0.3912 - accuracy: 0.8494\n",
            "Epoch 91/100\n",
            "70/70 [==============================] - 0s 2ms/step - loss: 0.3468 - accuracy: 0.8690\n",
            "Epoch 92/100\n",
            "70/70 [==============================] - 0s 2ms/step - loss: 0.3571 - accuracy: 0.8682\n",
            "Epoch 93/100\n",
            "70/70 [==============================] - 0s 2ms/step - loss: 0.3665 - accuracy: 0.8589\n",
            "Epoch 94/100\n",
            "70/70 [==============================] - 0s 2ms/step - loss: 0.3394 - accuracy: 0.8701\n",
            "Epoch 95/100\n",
            "70/70 [==============================] - 0s 2ms/step - loss: 0.3362 - accuracy: 0.8663\n",
            "Epoch 96/100\n",
            "70/70 [==============================] - 0s 2ms/step - loss: 0.3588 - accuracy: 0.8688\n",
            "Epoch 97/100\n",
            "70/70 [==============================] - 0s 2ms/step - loss: 0.3718 - accuracy: 0.8586\n",
            "Epoch 98/100\n",
            "70/70 [==============================] - 0s 2ms/step - loss: 0.3569 - accuracy: 0.8693\n",
            "Epoch 99/100\n",
            "70/70 [==============================] - 0s 2ms/step - loss: 0.3653 - accuracy: 0.8689\n",
            "Epoch 100/100\n",
            "70/70 [==============================] - 0s 2ms/step - loss: 0.3219 - accuracy: 0.8751\n"
          ],
          "name": "stdout"
        },
        {
          "output_type": "execute_result",
          "data": {
            "text/plain": [
              "<keras.callbacks.History at 0x7f957b646f10>"
            ]
          },
          "metadata": {
            "tags": []
          },
          "execution_count": 40
        }
      ]
    },
    {
      "cell_type": "markdown",
      "metadata": {
        "id": "I7RpsqiKg8Bc"
      },
      "source": [
        "## Evaluar el modelo y calcular predicciones finales\n"
      ]
    },
    {
      "cell_type": "markdown",
      "metadata": {
        "id": "eXFKSSEPx6jt"
      },
      "source": [
        "### Predicción de los resultados con el Conjunto de Testing\n"
      ]
    },
    {
      "cell_type": "code",
      "metadata": {
        "id": "RC83OJTbx7kO"
      },
      "source": [
        "y_pred_rna  = classi_rna.predict(X_test)\n",
        "y_pred_rna = (y_pred_rna>0.5)"
      ],
      "execution_count": 41,
      "outputs": []
    },
    {
      "cell_type": "markdown",
      "metadata": {
        "id": "OfTurysCyaS4"
      },
      "source": [
        "### Elaborar una matriz de confusión\n"
      ]
    },
    {
      "cell_type": "code",
      "metadata": {
        "colab": {
          "base_uri": "https://localhost:8080/"
        },
        "id": "uzjdltATybRn",
        "outputId": "037583a2-8074-4349-f71e-f09bd0857579"
      },
      "source": [
        "cmRNA = confusion_matrix(y_test, y_pred_rna)\n",
        "accuracy_score(y_test, y_pred_rna)\n",
        "\n"
      ],
      "execution_count": 42,
      "outputs": [
        {
          "output_type": "execute_result",
          "data": {
            "text/plain": [
              "0.8742857142857143"
            ]
          },
          "metadata": {
            "tags": []
          },
          "execution_count": 42
        }
      ]
    },
    {
      "cell_type": "markdown",
      "metadata": {
        "id": "djQrSjNKyn54"
      },
      "source": [
        "# CREAR EL OUTPUT\n"
      ]
    },
    {
      "cell_type": "markdown",
      "metadata": {
        "id": "BygKEIIUypfT"
      },
      "source": [
        "## Output RNA\n"
      ]
    },
    {
      "cell_type": "code",
      "metadata": {
        "id": "Rgx4IIfCys4u"
      },
      "source": [
        "\n",
        "\n",
        "y_out_rna = classi_rna.predict(x_t)\n",
        "y_out_rna = (y_out_rna>0.5)\n",
        "y_out_rna = pd.DataFrame(y_out_rna, columns=[\"Survived\"])\n",
        "y_out_rna = y_out_rna.astype(int)\n",
        "\n",
        "outRNA = pd.concat([datatest.PassengerId, y_out_rna], axis=1)\n",
        "outRNA.set_index('PassengerId', inplace=True)\n",
        "\n",
        "#outRNA.to_csv('subm_colab_RNA_100821.csv')"
      ],
      "execution_count": 44,
      "outputs": []
    },
    {
      "cell_type": "code",
      "metadata": {
        "id": "4KWwVcB4liWA"
      },
      "source": [
        ""
      ],
      "execution_count": null,
      "outputs": []
    },
    {
      "cell_type": "code",
      "metadata": {
        "id": "3M3YOuMoANeW"
      },
      "source": [
        "from google.colab import drive\n",
        "drive.mount('/content/drive')"
      ],
      "execution_count": null,
      "outputs": []
    },
    {
      "cell_type": "code",
      "metadata": {
        "id": "ETnXwD_dgaxH"
      },
      "source": [
        ""
      ],
      "execution_count": null,
      "outputs": []
    },
    {
      "cell_type": "code",
      "metadata": {
        "id": "zGJNxqKAK7TX"
      },
      "source": [
        "#with open('subm_am_colab_xgb_100821.csv', 'w') as f:\n",
        "#  f.write(outXGB)\n",
        "\n",
        "#files.download('subm_am_colab_xgb_100821.csv')"
      ],
      "execution_count": null,
      "outputs": []
    },
    {
      "cell_type": "code",
      "metadata": {
        "id": "jJUxbLr_KzkB"
      },
      "source": [
        ""
      ],
      "execution_count": null,
      "outputs": []
    },
    {
      "cell_type": "code",
      "metadata": {
        "id": "wSpNBVzuxv_1"
      },
      "source": [
        ""
      ],
      "execution_count": null,
      "outputs": []
    },
    {
      "cell_type": "code",
      "metadata": {
        "id": "OmRlUt7KwnDE"
      },
      "source": [
        ""
      ],
      "execution_count": null,
      "outputs": []
    },
    {
      "cell_type": "code",
      "metadata": {
        "id": "elgRUck-vK5m"
      },
      "source": [
        ""
      ],
      "execution_count": null,
      "outputs": []
    },
    {
      "cell_type": "code",
      "metadata": {
        "id": "NWCtOL6UvK2b"
      },
      "source": [
        ""
      ],
      "execution_count": null,
      "outputs": []
    },
    {
      "cell_type": "code",
      "metadata": {
        "id": "a5aGNNJOvKyv"
      },
      "source": [
        ""
      ],
      "execution_count": null,
      "outputs": []
    },
    {
      "cell_type": "code",
      "metadata": {
        "id": "i-wnnIYLvKXT"
      },
      "source": [
        ""
      ],
      "execution_count": null,
      "outputs": []
    },
    {
      "cell_type": "code",
      "metadata": {
        "id": "-BikDcxNuIvA"
      },
      "source": [
        ""
      ],
      "execution_count": null,
      "outputs": []
    },
    {
      "cell_type": "code",
      "metadata": {
        "id": "qcG5It2HuIkf"
      },
      "source": [
        ""
      ],
      "execution_count": null,
      "outputs": []
    },
    {
      "cell_type": "code",
      "metadata": {
        "id": "Laq6ayCMuIbs"
      },
      "source": [
        ""
      ],
      "execution_count": null,
      "outputs": []
    },
    {
      "cell_type": "code",
      "metadata": {
        "id": "Mfs9p6HLuIW2"
      },
      "source": [
        ""
      ],
      "execution_count": null,
      "outputs": []
    },
    {
      "cell_type": "code",
      "metadata": {
        "id": "b34hsjN8l29B"
      },
      "source": [
        ""
      ],
      "execution_count": null,
      "outputs": []
    },
    {
      "cell_type": "code",
      "metadata": {
        "id": "FbhkmNmcl3AA"
      },
      "source": [
        ""
      ],
      "execution_count": null,
      "outputs": []
    },
    {
      "cell_type": "code",
      "metadata": {
        "id": "2QP-ayXcl3C_"
      },
      "source": [
        ""
      ],
      "execution_count": null,
      "outputs": []
    },
    {
      "cell_type": "code",
      "metadata": {
        "id": "pQqZzebml3Fq"
      },
      "source": [
        ""
      ],
      "execution_count": null,
      "outputs": []
    },
    {
      "cell_type": "code",
      "metadata": {
        "id": "_Ih3Y3zil3In"
      },
      "source": [
        ""
      ],
      "execution_count": null,
      "outputs": []
    },
    {
      "cell_type": "code",
      "metadata": {
        "id": "3dFVgf8il0vh"
      },
      "source": [
        ""
      ],
      "execution_count": null,
      "outputs": []
    }
  ]
}